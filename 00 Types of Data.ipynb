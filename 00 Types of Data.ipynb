{
 "cells": [
  {
   "cell_type": "markdown",
   "id": "1e0ce9f3",
   "metadata": {},
   "source": [
    "# Types of Data"
   ]
  },
  {
   "cell_type": "raw",
   "id": "ee6c8505",
   "metadata": {},
   "source": [
    "*) Data \n",
    "\n",
    "1) Quantitative\n",
    "    -> Discrete\n",
    "    -> Continuous \n",
    "    \n",
    "2) Qualitative\n",
    "    -> Nominal\n",
    "    -> Ordinal"
   ]
  },
  {
   "cell_type": "raw",
   "id": "28b08810",
   "metadata": {},
   "source": [
    "1) Quantitative\n",
    "-> This is a Numerical variable\n",
    "\n",
    "1.1) Discrete\n",
    "-> Whole Number \n",
    "-> Example : Number of Bank Account\n",
    "           : Number of children in a family \n",
    "\n",
    "1.2) Continuous\n",
    "-> Any Value \n",
    "-> Example : Height\n",
    "           : Weight\n",
    "           : Speed "
   ]
  },
  {
   "cell_type": "raw",
   "id": "5f9e8de7",
   "metadata": {},
   "source": [
    "2) Qualitative\n",
    "-> Categorical Data \n",
    "\n",
    "2.1) Nominal Data \n",
    "-> Example : Gender, Male Female, Blood Group, Pincode\n",
    "\n",
    "2.2) Ordinal Data\n",
    "-> Rank \n",
    "-> Example : Customer Feedback"
   ]
  }
 ],
 "metadata": {
  "kernelspec": {
   "display_name": "Python 3 (ipykernel)",
   "language": "python",
   "name": "python3"
  },
  "language_info": {
   "codemirror_mode": {
    "name": "ipython",
    "version": 3
   },
   "file_extension": ".py",
   "mimetype": "text/x-python",
   "name": "python",
   "nbconvert_exporter": "python",
   "pygments_lexer": "ipython3",
   "version": "3.9.7"
  }
 },
 "nbformat": 4,
 "nbformat_minor": 5
}
