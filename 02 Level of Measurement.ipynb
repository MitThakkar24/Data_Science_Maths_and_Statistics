{
 "cells": [
  {
   "cell_type": "markdown",
   "id": "97032146",
   "metadata": {},
   "source": [
    "# Scale of Measurement"
   ]
  },
  {
   "cell_type": "raw",
   "id": "6703eb45",
   "metadata": {},
   "source": [
    "1) Nominal Scale Data\n",
    "2) Ordinal Scale Data\n",
    "3) Interval Scale Data\n",
    "4) Ratio Scale Data"
   ]
  },
  {
   "cell_type": "raw",
   "id": "ad6c9fcd",
   "metadata": {},
   "source": [
    "1) Nominal Scale Data\n",
    "-> Qualitative or Categorical Data\n",
    "-> Example : Gender, Colors, Labels\n",
    "-> Order does not matter"
   ]
  },
  {
   "cell_type": "raw",
   "id": "a92dbcd8",
   "metadata": {},
   "source": [
    "2) Ordinal Scale Data \n",
    "-> Rank is Important \n",
    "-> Order Matter \n",
    "-> Difference cannot be measured \n",
    "-> Example : 1) Best 2) Good 3) Bad"
   ]
  },
  {
   "cell_type": "raw",
   "id": "54d447ba",
   "metadata": {},
   "source": [
    "3) Interval Scale Data\n",
    "-> Order Matters\n",
    "-> Difference Can be measured \n",
    "-> Ratio cannot be measured\n",
    "-> No True Zero Starting Point\n",
    "-> Example : Temperature Variable : 30F, 60F, 90F, 120F or it can be negative too ( so there is no such zero starting point)"
   ]
  },
  {
   "cell_type": "raw",
   "id": "a9d5eb48",
   "metadata": {},
   "source": [
    "4) Ratio Scale of Data\n",
    "-> The Order Matter\n",
    "-> Differences are measureable (including ratio)\n",
    "-> it contains a zero starting point\n",
    "-> Example : Student Marks in a Class"
   ]
  }
 ],
 "metadata": {
  "kernelspec": {
   "display_name": "Python 3 (ipykernel)",
   "language": "python",
   "name": "python3"
  },
  "language_info": {
   "codemirror_mode": {
    "name": "ipython",
    "version": 3
   },
   "file_extension": ".py",
   "mimetype": "text/x-python",
   "name": "python",
   "nbconvert_exporter": "python",
   "pygments_lexer": "ipython3",
   "version": "3.9.7"
  }
 },
 "nbformat": 4,
 "nbformat_minor": 5
}
