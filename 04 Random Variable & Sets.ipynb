{
 "cells": [
  {
   "cell_type": "markdown",
   "id": "b67e9c36",
   "metadata": {},
   "source": [
    "# Random Variable"
   ]
  },
  {
   "cell_type": "raw",
   "id": "448ff013",
   "metadata": {},
   "source": [
    "1) Random Variable\n",
    "-> Random variable is a process of mappping the output of a random process or experiments to a number\n",
    "-> Example : Tossing a coin\n",
    "           : Rolling a Dice\n",
    "           : Measure the temprature of the next day"
   ]
  },
  {
   "cell_type": "raw",
   "id": "cda6bd97",
   "metadata": {},
   "source": [
    "1) Sets\n",
    "A = {1,2,3,4,5,6,7,8}\n",
    "B = {3,4,5,6,7}"
   ]
  },
  {
   "cell_type": "raw",
   "id": "1d01c1cd",
   "metadata": {},
   "source": [
    "Intersaction : A Intersection B\n",
    "Union : A Union B\n",
    "Difference A-B\n",
    "Subset A->B False\n",
    "       B->A True\n",
    "\n",
    "Superset A->B True\n",
    "         B->A False"
   ]
  },
  {
   "cell_type": "code",
   "execution_count": null,
   "id": "34e2bb9d",
   "metadata": {},
   "outputs": [],
   "source": []
  }
 ],
 "metadata": {
  "kernelspec": {
   "display_name": "Python 3 (ipykernel)",
   "language": "python",
   "name": "python3"
  },
  "language_info": {
   "codemirror_mode": {
    "name": "ipython",
    "version": 3
   },
   "file_extension": ".py",
   "mimetype": "text/x-python",
   "name": "python",
   "nbconvert_exporter": "python",
   "pygments_lexer": "ipython3",
   "version": "3.9.7"
  }
 },
 "nbformat": 4,
 "nbformat_minor": 5
}
