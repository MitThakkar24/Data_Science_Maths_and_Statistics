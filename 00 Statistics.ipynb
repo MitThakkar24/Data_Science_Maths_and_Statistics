{
 "cells": [
  {
   "cell_type": "markdown",
   "id": "9301adcc",
   "metadata": {},
   "source": [
    "# Introduction to Statistics"
   ]
  },
  {
   "cell_type": "raw",
   "id": "483acfa9",
   "metadata": {},
   "source": [
    "Defination : Statistics is the science of collecting, organizing and analyzing data"
   ]
  },
  {
   "cell_type": "raw",
   "id": "e46537d0",
   "metadata": {},
   "source": [
    "Data : Fact or Pieces of information"
   ]
  },
  {
   "cell_type": "markdown",
   "id": "9535781b",
   "metadata": {},
   "source": [
    "# Types of Statistics"
   ]
  },
  {
   "cell_type": "raw",
   "id": "21a2278d",
   "metadata": {},
   "source": [
    "1) Descriptive Statistics  \n",
    "-> It consists of organizing and summerizing data \n",
    "\n",
    "-> Measure of central tendancy [Mean, Median, Mode]\n",
    "-> Measure of Disperson [Variance, Std]\n",
    "-> Different types of distribution of data [Histogram, pdf, pmf]\n"
   ]
  },
  {
   "cell_type": "raw",
   "id": "59cc3f72",
   "metadata": {},
   "source": [
    "2) Inferntial Statistics \n",
    "-> it consists of uisng data you have measured to form conclusion\n",
    "\n",
    "-> Z Test } Hypothesis testing\n",
    "-> T Test } P Value, Significance Value\n",
    "-> CHI Square"
   ]
  },
  {
   "cell_type": "raw",
   "id": "81060219",
   "metadata": {},
   "source": [
    "Example: Lets say there are 20 statistics classes at your college and you have collected the heights of student in the class\n",
    "-> Heights are recorded as 175,180,140,140,135,160,135,160,135,190\n",
    "\n",
    "Descriptive Question:\n",
    "-> what is the average height of the entire classroom \n",
    "\n",
    "Inferntial Statistics\n",
    "-> Are the heights of the student in classroom similar to what you expact in the entire college"
   ]
  },
  {
   "cell_type": "markdown",
   "id": "f3683748",
   "metadata": {},
   "source": [
    "# Population and Sample Data"
   ]
  },
  {
   "cell_type": "raw",
   "id": "7a476a84",
   "metadata": {},
   "source": [
    "Population : Is the group you are interested in studying\n",
    "Sample : A subset of population"
   ]
  }
 ],
 "metadata": {
  "kernelspec": {
   "display_name": "Python 3 (ipykernel)",
   "language": "python",
   "name": "python3"
  },
  "language_info": {
   "codemirror_mode": {
    "name": "ipython",
    "version": 3
   },
   "file_extension": ".py",
   "mimetype": "text/x-python",
   "name": "python",
   "nbconvert_exporter": "python",
   "pygments_lexer": "ipython3",
   "version": "3.9.7"
  }
 },
 "nbformat": 4,
 "nbformat_minor": 5
}
