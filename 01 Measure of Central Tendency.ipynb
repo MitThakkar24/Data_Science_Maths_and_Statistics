{
 "cells": [
  {
   "cell_type": "markdown",
   "id": "6a216c00",
   "metadata": {},
   "source": [
    "# Measure of Central Tendency"
   ]
  },
  {
   "cell_type": "raw",
   "id": "d87a3438",
   "metadata": {},
   "source": [
    "1) High or Average\n",
    "2) Median \n",
    "3) Mode"
   ]
  },
  {
   "cell_type": "raw",
   "id": "0ba40cc6",
   "metadata": {},
   "source": [
    "1) Mean\n",
    "-> Sum of Population(N) or Sample(n) / N or n \n",
    "-> x Bar is sample mean"
   ]
  },
  {
   "cell_type": "raw",
   "id": "30b635fe",
   "metadata": {},
   "source": [
    "2) Median\n",
    "-> Sort the random variable\n",
    "-> count number of element\n",
    "\n",
    "-> If Count == Even \n",
    "Average of middle 2 element\n",
    "-> If count is odd\n",
    "-> Middle element\n",
    "\n",
    "\n",
    "Why Median?\n",
    "-> It is used to find the central tendancy when outliers is present"
   ]
  },
  {
   "cell_type": "raw",
   "id": "5026acb0",
   "metadata": {},
   "source": [
    "3) Mode : Frequency Maximum"
   ]
  },
  {
   "cell_type": "raw",
   "id": "40edac09",
   "metadata": {},
   "source": [
    "When Used?\n",
    "-> EDA and Feature engineering"
   ]
  },
  {
   "cell_type": "markdown",
   "id": "483b947b",
   "metadata": {},
   "source": [
    "# Part 2"
   ]
  },
  {
   "cell_type": "markdown",
   "id": "7bbf6bf2",
   "metadata": {},
   "source": [
    "## Mean (Average)"
   ]
  },
  {
   "cell_type": "code",
   "execution_count": 1,
   "id": "9ce5d632",
   "metadata": {},
   "outputs": [],
   "source": [
    "age = [12,21,12,34,45,34,35,35,5,7,343,53]"
   ]
  },
  {
   "cell_type": "code",
   "execution_count": 2,
   "id": "33ab2e8e",
   "metadata": {},
   "outputs": [],
   "source": [
    "import numpy as np"
   ]
  },
  {
   "cell_type": "code",
   "execution_count": 3,
   "id": "f0e6b28f",
   "metadata": {},
   "outputs": [
    {
     "data": {
      "text/plain": [
       "53.0"
      ]
     },
     "execution_count": 3,
     "metadata": {},
     "output_type": "execute_result"
    }
   ],
   "source": [
    "np.mean(age)"
   ]
  },
  {
   "cell_type": "code",
   "execution_count": 5,
   "id": "210d8d1c",
   "metadata": {},
   "outputs": [],
   "source": [
    "import seaborn as sns\n",
    "\n",
    "df = sns.load_dataset('tips')"
   ]
  },
  {
   "cell_type": "code",
   "execution_count": 8,
   "id": "47bfda8c",
   "metadata": {},
   "outputs": [
    {
     "data": {
      "text/plain": [
       "2.9982786885245902"
      ]
     },
     "execution_count": 8,
     "metadata": {},
     "output_type": "execute_result"
    }
   ],
   "source": [
    "np.mean(df.tip)"
   ]
  },
  {
   "cell_type": "markdown",
   "id": "eed8be9f",
   "metadata": {},
   "source": [
    "## Median"
   ]
  },
  {
   "cell_type": "code",
   "execution_count": 10,
   "id": "d298a450",
   "metadata": {},
   "outputs": [
    {
     "data": {
      "text/plain": [
       "2.9"
      ]
     },
     "execution_count": 10,
     "metadata": {},
     "output_type": "execute_result"
    }
   ],
   "source": [
    "np.median(df.tip)"
   ]
  },
  {
   "cell_type": "markdown",
   "id": "47201cdd",
   "metadata": {},
   "source": [
    "## mode"
   ]
  },
  {
   "cell_type": "code",
   "execution_count": 13,
   "id": "c5196918",
   "metadata": {},
   "outputs": [
    {
     "data": {
      "text/plain": [
       "ModeResult(mode=array([2.]), count=array([33]))"
      ]
     },
     "execution_count": 13,
     "metadata": {},
     "output_type": "execute_result"
    }
   ],
   "source": [
    "from scipy import stats\n",
    "\n",
    "stats.mode(df.tip)"
   ]
  },
  {
   "cell_type": "code",
   "execution_count": null,
   "id": "45a75886",
   "metadata": {},
   "outputs": [],
   "source": []
  }
 ],
 "metadata": {
  "kernelspec": {
   "display_name": "Python 3 (ipykernel)",
   "language": "python",
   "name": "python3"
  },
  "language_info": {
   "codemirror_mode": {
    "name": "ipython",
    "version": 3
   },
   "file_extension": ".py",
   "mimetype": "text/x-python",
   "name": "python",
   "nbconvert_exporter": "python",
   "pygments_lexer": "ipython3",
   "version": "3.9.7"
  }
 },
 "nbformat": 4,
 "nbformat_minor": 5
}
